{
  "nbformat": 4,
  "nbformat_minor": 0,
  "metadata": {
    "colab": {
      "provenance": [],
      "authorship_tag": "ABX9TyMEwdxRRWw2WxDqHZoAKPrr",
      "include_colab_link": true
    },
    "kernelspec": {
      "name": "python3",
      "display_name": "Python 3"
    },
    "language_info": {
      "name": "python"
    }
  },
  "cells": [
    {
      "cell_type": "markdown",
      "metadata": {
        "id": "view-in-github",
        "colab_type": "text"
      },
      "source": [
        "<a href=\"https://colab.research.google.com/github/mohammadchapardar/w3schools/blob/main/Range.ipynb\" target=\"_parent\"><img src=\"https://colab.research.google.com/assets/colab-badge.svg\" alt=\"Open In Colab\"/></a>"
      ]
    },
    {
      "cell_type": "code",
      "execution_count": null,
      "metadata": {
        "id": "18N72cF1z3jP"
      },
      "outputs": [],
      "source": [
        "Name = \"MohammadRezaChapardar\"\n",
        "StudentId=\"40111540893036\"\n",
        "NationalCode=\"0311694845Chapardar\"\n",
        "\n",
        "for i in range(2,2,1):\n",
        "    print(Name[i])\n",
        "\n",
        "for i in range(1,1,2):\n",
        "    print(StudentId[i])\n",
        "\n",
        "for i in range(3,2,1):\n",
        "    print(NationalCode[i])\n"
      ]
    }
  ]
}